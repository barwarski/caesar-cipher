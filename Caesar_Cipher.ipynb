{
 "cells": [
  {
   "cell_type": "markdown",
   "id": "15f40965",
   "metadata": {},
   "source": [
    "## Encode Text"
   ]
  },
  {
   "cell_type": "code",
   "execution_count": 3,
   "id": "5cdbcbfc",
   "metadata": {},
   "outputs": [],
   "source": [
    "def encode(cipher:str, cod:str, n:int):\n",
    "    #cipher_letter = [*cipher]\n",
    "    ascii_code = list(cipher.encode('ascii'))\n",
    "    ascii_code_added = []\n",
    "    encode_cipher = \"\"\n",
    "    \n",
    "    for x in ascii_code:\n",
    "        ascii_code_added.append(ascii_code[ascii_code.index(x)] + n)\n",
    "        encode_cipher += chr(ascii_code_added[ascii_code.index(x)])\n",
    "        \n",
    "    return(encode_cipher)   "
   ]
  },
  {
   "cell_type": "code",
   "execution_count": 11,
   "id": "717f4621",
   "metadata": {},
   "outputs": [
    {
     "data": {
      "text/plain": [
       "'CY35p.\"ycu\"igjvA'"
      ]
     },
     "execution_count": 11,
     "metadata": {},
     "output_type": "execute_result"
    }
   ],
   "source": [
    "text = \"AW13n, was geht?\"\n",
    "\n",
    "encode(text, cod=\"x\", n=2)"
   ]
  },
  {
   "cell_type": "markdown",
   "id": "efbbce23",
   "metadata": {},
   "source": [
    "## Decode Text"
   ]
  },
  {
   "cell_type": "code",
   "execution_count": 8,
   "id": "94bc78b0",
   "metadata": {},
   "outputs": [],
   "source": [
    "def decode(cipher:str, cod:str, n:int):\n",
    "    #cipher_letter = [*cipher]\n",
    "    ascii_code = list(cipher.encode('ascii'))\n",
    "    ascii_code_added = []\n",
    "    encode_cipher = \"\"\n",
    "    \n",
    "    for x in ascii_code:\n",
    "        ascii_code_added.append(ascii_code[ascii_code.index(x)] - n)\n",
    "        encode_cipher += chr(ascii_code_added[ascii_code.index(x)])\n",
    "        \n",
    "    return(encode_cipher)   "
   ]
  },
  {
   "cell_type": "code",
   "execution_count": 13,
   "id": "3c31b7c4",
   "metadata": {},
   "outputs": [
    {
     "data": {
      "text/plain": [
       "'AW13n, was geht?'"
      ]
     },
     "execution_count": 13,
     "metadata": {},
     "output_type": "execute_result"
    }
   ],
   "source": [
    "text = 'CY35p.\"ycu\"igjvA'\n",
    "\n",
    "decode(text, cod=\"x\", n=2)"
   ]
  },
  {
   "cell_type": "code",
   "execution_count": null,
   "id": "6a5d5004",
   "metadata": {},
   "outputs": [],
   "source": []
  }
 ],
 "metadata": {
  "kernelspec": {
   "display_name": "Python 3 (ipykernel)",
   "language": "python",
   "name": "python3"
  },
  "language_info": {
   "codemirror_mode": {
    "name": "ipython",
    "version": 3
   },
   "file_extension": ".py",
   "mimetype": "text/x-python",
   "name": "python",
   "nbconvert_exporter": "python",
   "pygments_lexer": "ipython3",
   "version": "3.9.12"
  }
 },
 "nbformat": 4,
 "nbformat_minor": 5
}
